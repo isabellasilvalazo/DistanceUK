{
 "cells": [
  {
   "cell_type": "code",
   "execution_count": 1,
   "id": "efce800e",
   "metadata": {},
   "outputs": [
    {
     "data": {
      "text/plain": [
       "['UK1',\n",
       " 'airports',\n",
       " 'small airports hull',\n",
       " 'UK0',\n",
       " 'UK',\n",
       " 'rivers',\n",
       " 'roads',\n",
       " 'lakes',\n",
       " 'gazetter',\n",
       " 'border0',\n",
       " 'border']"
      ]
     },
     "execution_count": 1,
     "metadata": {},
     "output_type": "execute_result"
    }
   ],
   "source": [
    "UKMapsLink=\"https://github.com/isabellasilvalazo/ProcesamientoGDF/raw/main/mapas/UKmaps_27700.gpkg\"\n",
    "\n",
    "from  fiona import listlayers\n",
    "\n",
    "\n",
    "#layers in maps\n",
    "listlayers(UKMapsLink)"
   ]
  },
  {
   "cell_type": "code",
   "execution_count": null,
   "id": "3ce9c0f0",
   "metadata": {},
   "outputs": [],
   "source": []
  }
 ],
 "metadata": {
  "kernelspec": {
   "display_name": "Python 3 (ipykernel)",
   "language": "python",
   "name": "python3"
  },
  "language_info": {
   "codemirror_mode": {
    "name": "ipython",
    "version": 3
   },
   "file_extension": ".py",
   "mimetype": "text/x-python",
   "name": "python",
   "nbconvert_exporter": "python",
   "pygments_lexer": "ipython3",
   "version": "3.9.13"
  }
 },
 "nbformat": 4,
 "nbformat_minor": 5
}
